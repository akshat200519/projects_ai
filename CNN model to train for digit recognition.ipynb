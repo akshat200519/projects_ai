{
  "nbformat": 4,
  "nbformat_minor": 0,
  "metadata": {
    "colab": {
      "provenance": []
    },
    "kernelspec": {
      "name": "python3",
      "display_name": "Python 3"
    },
    "language_info": {
      "name": "python"
    }
  },
  "cells": [
    {
      "cell_type": "code",
      "source": [
        "import tensorflow as tf\n",
        "from tensorflow.keras import layers\n",
        "from tensorflow.keras.layers import Dense, Dropout, Flatten\n",
        "from tensorflow.keras.datasets import mnist\n",
        "from tensorflow.keras import backend as K\n",
        "import numpy as np\n",
        "import matplotlib.pyplot as plt"
      ],
      "metadata": {
        "id": "Y7KVH2oMDc-F"
      },
      "execution_count": 2,
      "outputs": []
    },
    {
      "cell_type": "code",
      "source": [
        "(x_train, y_train), (x_test, y_test)=mnist.load_data()"
      ],
      "metadata": {
        "colab": {
          "base_uri": "https://localhost:8080/"
        },
        "id": "ZNkKWveFEvQO",
        "outputId": "03793bb9-6ff2-49e9-b292-b4165a049d89"
      },
      "execution_count": 3,
      "outputs": [
        {
          "output_type": "stream",
          "name": "stdout",
          "text": [
            "Downloading data from https://storage.googleapis.com/tensorflow/tf-keras-datasets/mnist.npz\n",
            "11490434/11490434 [==============================] - 1s 0us/step\n"
          ]
        }
      ]
    },
    {
      "cell_type": "code",
      "source": [
        "y_test.shape"
      ],
      "metadata": {
        "colab": {
          "base_uri": "https://localhost:8080/"
        },
        "id": "KLQenAHIE8vJ",
        "outputId": "b81e1b89-6580-42c1-91c7-60a70b6e4247"
      },
      "execution_count": 4,
      "outputs": [
        {
          "output_type": "execute_result",
          "data": {
            "text/plain": [
              "(10000,)"
            ]
          },
          "metadata": {},
          "execution_count": 4
        }
      ]
    },
    {
      "cell_type": "code",
      "source": [
        "img_rows, img_cols = 28, 28\n",
        "\n",
        "if K.image_data_format()=='channel_first':\n",
        "  x_train = x_train.reshape(x_train.shape[0], 1, img_rows, img_cols)\n",
        "  x_test = x_test.reshape(x_test.shape[0], 1, img_rows, img_cols)\n",
        "  input_shape = (1, img_rows, img_cols)\n",
        "else:\n",
        "  x_train = x_train.reshape(x_train.shape[0], img_rows, img_cols, 1)\n",
        "  x_test = x_test.reshape(x_test.shape[0], img_rows, img_cols, 1)\n",
        "  input_shape = (img_rows, img_cols, 1)\n",
        "\n",
        "x_train = x_train.astype('float32')/255.0\n",
        "x_test = x_test.astype('float32')/255.0\n",
        "\n",
        "y_train = tf.keras.utils.to_categorical(y_train, 10)\n",
        "y_test = tf.keras.utils.to_categorical(y_test, 10)"
      ],
      "metadata": {
        "id": "ErRzPi2mFEqq"
      },
      "execution_count": 5,
      "outputs": []
    },
    {
      "cell_type": "code",
      "source": [
        "model = tf.keras.Sequential()\n",
        "model.add(layers.Conv2D(32, kernel_size=(3,3), activation='relu', padding='same', input_shape = input_shape))\n",
        "model.add(layers.Conv2D(64, (3,3), activation='relu', padding='same'))\n",
        "model.add(layers.MaxPooling2D(2,2))\n",
        "model.add(layers.Dropout(0.25))\n",
        "model.add(layers.Flatten())\n",
        "model.add(layers.Dense(128, activation='relu'))\n",
        "model.add(layers.Dropout(0.5))\n",
        "model.add(layers.Dense(10, activation='softmax'))\n",
        "\n",
        "model.summary()"
      ],
      "metadata": {
        "colab": {
          "base_uri": "https://localhost:8080/"
        },
        "id": "afBCFNq1Iz0x",
        "outputId": "274d647f-071a-4784-eda4-281d1225c08f"
      },
      "execution_count": 6,
      "outputs": [
        {
          "output_type": "stream",
          "name": "stdout",
          "text": [
            "Model: \"sequential\"\n",
            "_________________________________________________________________\n",
            " Layer (type)                Output Shape              Param #   \n",
            "=================================================================\n",
            " conv2d (Conv2D)             (None, 28, 28, 32)        320       \n",
            "                                                                 \n",
            " conv2d_1 (Conv2D)           (None, 28, 28, 64)        18496     \n",
            "                                                                 \n",
            " max_pooling2d (MaxPooling2D  (None, 14, 14, 64)       0         \n",
            " )                                                               \n",
            "                                                                 \n",
            " dropout (Dropout)           (None, 14, 14, 64)        0         \n",
            "                                                                 \n",
            " flatten (Flatten)           (None, 12544)             0         \n",
            "                                                                 \n",
            " dense (Dense)               (None, 128)               1605760   \n",
            "                                                                 \n",
            " dropout_1 (Dropout)         (None, 128)               0         \n",
            "                                                                 \n",
            " dense_1 (Dense)             (None, 10)                1290      \n",
            "                                                                 \n",
            "=================================================================\n",
            "Total params: 1,625,866\n",
            "Trainable params: 1,625,866\n",
            "Non-trainable params: 0\n",
            "_________________________________________________________________\n"
          ]
        }
      ]
    },
    {
      "cell_type": "code",
      "source": [
        "model.compile(optimizer='adam', loss='categorical_crossentropy', metrics='accuracy')"
      ],
      "metadata": {
        "id": "htiRxuWLspkW"
      },
      "execution_count": 7,
      "outputs": []
    },
    {
      "cell_type": "code",
      "source": [
        "history=model.fit(x_train, y_train, batch_size=128, epochs=12, validation_data=(x_test, y_test))"
      ],
      "metadata": {
        "colab": {
          "base_uri": "https://localhost:8080/"
        },
        "id": "9tZWoqYqtIv3",
        "outputId": "b55c8dee-c275-41ff-85b5-bb481006fb10"
      },
      "execution_count": 8,
      "outputs": [
        {
          "output_type": "stream",
          "name": "stdout",
          "text": [
            "Epoch 1/12\n",
            "469/469 [==============================] - 238s 504ms/step - loss: 0.2219 - accuracy: 0.9327 - val_loss: 0.0559 - val_accuracy: 0.9808\n",
            "Epoch 2/12\n",
            "469/469 [==============================] - 233s 497ms/step - loss: 0.0816 - accuracy: 0.9743 - val_loss: 0.0398 - val_accuracy: 0.9862\n",
            "Epoch 3/12\n",
            "469/469 [==============================] - 228s 487ms/step - loss: 0.0610 - accuracy: 0.9816 - val_loss: 0.0358 - val_accuracy: 0.9879\n",
            "Epoch 4/12\n",
            "469/469 [==============================] - 232s 494ms/step - loss: 0.0502 - accuracy: 0.9845 - val_loss: 0.0319 - val_accuracy: 0.9891\n",
            "Epoch 5/12\n",
            "469/469 [==============================] - 234s 498ms/step - loss: 0.0408 - accuracy: 0.9868 - val_loss: 0.0291 - val_accuracy: 0.9909\n",
            "Epoch 6/12\n",
            "469/469 [==============================] - 241s 514ms/step - loss: 0.0374 - accuracy: 0.9883 - val_loss: 0.0279 - val_accuracy: 0.9907\n",
            "Epoch 7/12\n",
            "469/469 [==============================] - 229s 488ms/step - loss: 0.0341 - accuracy: 0.9890 - val_loss: 0.0262 - val_accuracy: 0.9914\n",
            "Epoch 8/12\n",
            "469/469 [==============================] - 230s 490ms/step - loss: 0.0309 - accuracy: 0.9904 - val_loss: 0.0281 - val_accuracy: 0.9909\n",
            "Epoch 9/12\n",
            "469/469 [==============================] - 230s 491ms/step - loss: 0.0261 - accuracy: 0.9911 - val_loss: 0.0349 - val_accuracy: 0.9914\n",
            "Epoch 10/12\n",
            "469/469 [==============================] - 230s 491ms/step - loss: 0.0248 - accuracy: 0.9914 - val_loss: 0.0281 - val_accuracy: 0.9919\n",
            "Epoch 11/12\n",
            "469/469 [==============================] - 231s 492ms/step - loss: 0.0234 - accuracy: 0.9923 - val_loss: 0.0280 - val_accuracy: 0.9923\n",
            "Epoch 12/12\n",
            "469/469 [==============================] - 232s 494ms/step - loss: 0.0203 - accuracy: 0.9929 - val_loss: 0.0251 - val_accuracy: 0.9929\n"
          ]
        }
      ]
    },
    {
      "cell_type": "code",
      "source": [
        "test_loss, test_acc= model.evaluate(x_test, y_test, verbose=2)\n",
        "print('Accuracy', test_acc)"
      ],
      "metadata": {
        "colab": {
          "base_uri": "https://localhost:8080/"
        },
        "id": "Sr_7_PND5DCk",
        "outputId": "b90673e4-5636-42f8-bc0c-28fd78fbb736"
      },
      "execution_count": 9,
      "outputs": [
        {
          "output_type": "stream",
          "name": "stdout",
          "text": [
            "313/313 - 10s - loss: 0.0251 - accuracy: 0.9929 - 10s/epoch - 32ms/step\n",
            "Accuracy 0.992900013923645\n"
          ]
        }
      ]
    },
    {
      "cell_type": "code",
      "source": [
        "pred = model.predict(x_test)\n",
        "pred = np.argmax(pred, axis=1)[:6]\n",
        "label = np.argmax(y_test, axis=1)[:7]\n",
        "\n",
        "print(pred)\n",
        "print(label)"
      ],
      "metadata": {
        "colab": {
          "base_uri": "https://localhost:8080/"
        },
        "id": "jHFd0k0a5mR5",
        "outputId": "7d1ba9d7-520e-47d8-ea79-39b92b6bc8b4"
      },
      "execution_count": 10,
      "outputs": [
        {
          "output_type": "stream",
          "name": "stdout",
          "text": [
            "313/313 [==============================] - 11s 34ms/step\n",
            "[7 2 1 0 4 1]\n",
            "[7 2 1 0 4 1 4]\n"
          ]
        }
      ]
    },
    {
      "cell_type": "code",
      "source": [
        "plt.plot(history.history['accuracy'], label='accuracy')\n",
        "plt.plot(history.history['val_accuracy'], label='val_accuracy')\n",
        "plt.plot(history.history['loss'], label='loss')\n",
        "plt.plot(history.history['val_loss'], label='val_loss')\n",
        "plt.legend()\n",
        "plt.show()"
      ],
      "metadata": {
        "colab": {
          "base_uri": "https://localhost:8080/",
          "height": 265
        },
        "id": "UXP7kzd86eXn",
        "outputId": "5a714bdf-7c5e-4e0d-8c25-3c3665f3753d"
      },
      "execution_count": 11,
      "outputs": [
        {
          "output_type": "display_data",
          "data": {
            "text/plain": [
              "<Figure size 432x288 with 1 Axes>"
            ],
            "image/png": "[encoded data removed]"
          },
          "metadata": {
            "needs_background": "light"
          }
        }
      ]
    }
  ]
}