{
 "cells": [
  {
   "cell_type": "code",
   "execution_count": 1,
   "metadata": {
    "id": "0DviOwWLIDwu"
   },
   "outputs": [
    {
     "ename": "ModuleNotFoundError",
     "evalue": "No module named 'tensorflow'",
     "output_type": "error",
     "traceback": [
      "\u001b[1;31m---------------------------------------------------------------------------\u001b[0m",
      "\u001b[1;31mModuleNotFoundError\u001b[0m                       Traceback (most recent call last)",
      "\u001b[1;32m~\\AppData\\Local\\Temp\\ipykernel_9956\\260430415.py\u001b[0m in \u001b[0;36m<module>\u001b[1;34m\u001b[0m\n\u001b[1;32m----> 1\u001b[1;33m \u001b[1;32mimport\u001b[0m \u001b[0mtensorflow\u001b[0m \u001b[1;32mas\u001b[0m \u001b[0mtf\u001b[0m\u001b[1;33m\u001b[0m\u001b[1;33m\u001b[0m\u001b[0m\n\u001b[0m\u001b[0;32m      2\u001b[0m \u001b[1;32mfrom\u001b[0m \u001b[0mtensorflow\u001b[0m\u001b[1;33m.\u001b[0m\u001b[0mkeras\u001b[0m \u001b[1;32mimport\u001b[0m \u001b[0mlayers\u001b[0m\u001b[1;33m\u001b[0m\u001b[1;33m\u001b[0m\u001b[0m\n\u001b[0;32m      3\u001b[0m \u001b[1;32mfrom\u001b[0m \u001b[0mtensorflow\u001b[0m\u001b[1;33m.\u001b[0m\u001b[0mkeras\u001b[0m\u001b[1;33m.\u001b[0m\u001b[0mdatasets\u001b[0m \u001b[1;32mimport\u001b[0m \u001b[0mcifar10\u001b[0m\u001b[1;33m\u001b[0m\u001b[1;33m\u001b[0m\u001b[0m\n\u001b[0;32m      4\u001b[0m \u001b[1;32mimport\u001b[0m \u001b[0mnumpy\u001b[0m \u001b[1;32mas\u001b[0m \u001b[0mnp\u001b[0m\u001b[1;33m\u001b[0m\u001b[1;33m\u001b[0m\u001b[0m\n\u001b[0;32m      5\u001b[0m \u001b[1;32mimport\u001b[0m \u001b[0mmatplotlib\u001b[0m\u001b[1;33m.\u001b[0m\u001b[0mpyplot\u001b[0m \u001b[1;32mas\u001b[0m \u001b[0mplt\u001b[0m\u001b[1;33m\u001b[0m\u001b[1;33m\u001b[0m\u001b[0m\n",
      "\u001b[1;31mModuleNotFoundError\u001b[0m: No module named 'tensorflow'"
     ]
    }
   ],
   "source": [
    "#importing the libraries\n",
    "import tensorflow as tf\n",
    "from tensorflow.keras import layers\n",
    "from tensorflow.keras.datasets import cifar10\n",
    "import numpy as np\n",
    "import matplotlib.pyplot as plt"
   ]
  },
  {
   "cell_type": "code",
   "execution_count": 4,
   "metadata": {
    "colab": {
     "base_uri": "https://localhost:8080/"
    },
    "id": "3J2ypFGlLSuV",
    "outputId": "4a935e59-4717-41ad-c877-95be4b09947b"
   },
   "outputs": [
    {
     "name": "stdout",
     "output_type": "stream",
     "text": [
      "Downloading data from https://www.cs.toronto.edu/~kriz/cifar-10-python.tar.gz\n",
      "170498071/170498071 [==============================] - 11s 0us/step\n"
     ]
    }
   ],
   "source": [
    "#loading the dataset in code\n",
    "(x_train,y_train),(x_test,y_test)=cifar10.load_data()"
   ]
  },
  {
   "cell_type": "code",
   "execution_count": 5,
   "metadata": {
    "colab": {
     "base_uri": "https://localhost:8080/"
    },
    "id": "6MgP8FWZLlj-",
    "outputId": "4548d1c1-9799-486c-e997-f5a73440d82b"
   },
   "outputs": [
    {
     "data": {
      "text/plain": [
       "(10000, 1)"
      ]
     },
     "execution_count": 5,
     "metadata": {},
     "output_type": "execute_result"
    }
   ],
   "source": [
    "y_test.shape"
   ]
  },
  {
   "cell_type": "code",
   "execution_count": 6,
   "metadata": {
    "id": "HLWhFrLLL3N7"
   },
   "outputs": [],
   "source": [
    "#classification of data\n",
    "x_train=x_train.astype('float32')/255.0\n",
    "x_test=x_test.astype('float32')/255.0\n",
    "\n",
    "y_train=tf.keras.utils.to_categorical(y_train,num_classes=10)\n",
    "y_test=tf.keras.utils.to_categorical(y_test, num_classes=10)"
   ]
  },
  {
   "cell_type": "code",
   "execution_count": 10,
   "metadata": {
    "colab": {
     "base_uri": "https://localhost:8080/"
    },
    "id": "whq9IT07jKTU",
    "outputId": "1bb681de-383c-4573-f555-631438af738c"
   },
   "outputs": [
    {
     "name": "stdout",
     "output_type": "stream",
     "text": [
      "Model: \"sequential_3\"\n",
      "_________________________________________________________________\n",
      " Layer (type)                Output Shape              Param #   \n",
      "=================================================================\n",
      " conv2d_6 (Conv2D)           (None, 32, 32, 32)        896       \n",
      "                                                                 \n",
      " max_pooling2d_6 (MaxPooling  (None, 16, 16, 32)       0         \n",
      " 2D)                                                             \n",
      "                                                                 \n",
      " conv2d_7 (Conv2D)           (None, 16, 16, 64)        18496     \n",
      "                                                                 \n",
      " max_pooling2d_7 (MaxPooling  (None, 8, 8, 64)         0         \n",
      " 2D)                                                             \n",
      "                                                                 \n",
      " conv2d_8 (Conv2D)           (None, 8, 8, 64)          36928     \n",
      "                                                                 \n",
      " flatten (Flatten)           (None, 4096)              0         \n",
      "                                                                 \n",
      " dense (Dense)               (None, 64)                262208    \n",
      "                                                                 \n",
      " dense_1 (Dense)             (None, 10)                650       \n",
      "                                                                 \n",
      "=================================================================\n",
      "Total params: 319,178\n",
      "Trainable params: 319,178\n",
      "Non-trainable params: 0\n",
      "_________________________________________________________________\n"
     ]
    }
   ],
   "source": [
    "#CNN model formation\n",
    "model=tf.keras.Sequential()\n",
    "model.add(layers.Conv2D(32,(3,3),activation='relu',padding='same',input_shape=(32,32,3)))\n",
    "model.add(layers.MaxPooling2D((2,2)))\n",
    "model.add(layers.Conv2D(64,(3,3),activation='relu',padding='same'))\n",
    "model.add(layers.MaxPooling2D((2,2)))\n",
    "model.add(layers.Conv2D(64,(3,3),activation='relu',padding='same'))\n",
    "model.add(layers.Flatten())\n",
    "model.add(layers.Dense(64,activation='relu'))\n",
    "model.add(layers.Dense(10,activation='softmax'))\n",
    "\n",
    "model.summary()\n"
   ]
  },
  {
   "cell_type": "code",
   "execution_count": 11,
   "metadata": {
    "id": "4x-CJh08o0ix"
   },
   "outputs": [],
   "source": [
    "#compilation of code\n",
    "model.compile(optimizer='adam', loss='categorical_crossentropy', metrics='accuracy')"
   ]
  },
  {
   "cell_type": "code",
   "execution_count": 12,
   "metadata": {
    "colab": {
     "base_uri": "https://localhost:8080/"
    },
    "id": "gr8B3poQpLhM",
    "outputId": "c04a88dc-803a-4d22-b646-79044af7d292"
   },
   "outputs": [
    {
     "name": "stdout",
     "output_type": "stream",
     "text": [
      "Epoch 1/10\n",
      "1563/1563 [==============================] - 133s 84ms/step - loss: 1.4060 - accuracy: 0.4954 - val_loss: 1.1619 - val_accuracy: 0.5868\n",
      "Epoch 2/10\n",
      "1563/1563 [==============================] - 125s 80ms/step - loss: 0.9976 - accuracy: 0.6499 - val_loss: 0.9691 - val_accuracy: 0.6643\n",
      "Epoch 3/10\n",
      "1563/1563 [==============================] - 128s 82ms/step - loss: 0.8417 - accuracy: 0.7047 - val_loss: 0.8717 - val_accuracy: 0.6934\n",
      "Epoch 4/10\n",
      "1563/1563 [==============================] - 124s 79ms/step - loss: 0.7484 - accuracy: 0.7393 - val_loss: 0.8320 - val_accuracy: 0.7132\n",
      "Epoch 5/10\n",
      "1563/1563 [==============================] - 128s 82ms/step - loss: 0.6671 - accuracy: 0.7677 - val_loss: 0.8694 - val_accuracy: 0.7079\n",
      "Epoch 6/10\n",
      "1563/1563 [==============================] - 124s 79ms/step - loss: 0.6010 - accuracy: 0.7899 - val_loss: 0.8554 - val_accuracy: 0.7177\n",
      "Epoch 7/10\n",
      "1563/1563 [==============================] - 126s 80ms/step - loss: 0.5436 - accuracy: 0.8075 - val_loss: 0.8396 - val_accuracy: 0.7238\n",
      "Epoch 8/10\n",
      "1563/1563 [==============================] - 124s 80ms/step - loss: 0.4829 - accuracy: 0.8301 - val_loss: 0.8696 - val_accuracy: 0.7152\n",
      "Epoch 9/10\n",
      "1563/1563 [==============================] - 124s 79ms/step - loss: 0.4317 - accuracy: 0.8469 - val_loss: 0.9108 - val_accuracy: 0.7209\n",
      "Epoch 10/10\n",
      "1563/1563 [==============================] - 124s 79ms/step - loss: 0.3800 - accuracy: 0.8642 - val_loss: 0.9706 - val_accuracy: 0.7197\n"
     ]
    }
   ],
   "source": [
    "#CNN model training\n",
    "history=model.fit(x_train, y_train, epochs=10, validation_data=(x_test, y_test))"
   ]
  },
  {
   "cell_type": "code",
   "execution_count": 13,
   "metadata": {
    "colab": {
     "base_uri": "https://localhost:8080/"
    },
    "id": "UbB-9qgburgr",
    "outputId": "d74ff567-5460-41be-d264-caf57ae92c51"
   },
   "outputs": [
    {
     "name": "stdout",
     "output_type": "stream",
     "text": [
      "313/313 - 7s - loss: 0.9706 - accuracy: 0.7197 - 7s/epoch - 23ms/step\n",
      "Accuracy: 0.7196999788284302\n"
     ]
    }
   ],
   "source": [
    "#data processing\n",
    "test_loss, test_acc=model.evaluate(x_test,y_test, verbose=2)\n",
    "print('Accuracy:', test_acc)"
   ]
  },
  {
   "cell_type": "code",
   "execution_count": 14,
   "metadata": {
    "colab": {
     "base_uri": "https://localhost:8080/"
    },
    "id": "PZARi8Z-vJ1E",
    "outputId": "bf4fd54f-9681-4d77-f773-9381f4541cb8"
   },
   "outputs": [
    {
     "name": "stdout",
     "output_type": "stream",
     "text": [
      "4/4 [==============================] - 0s 16ms/step\n",
      "[3 8 0 0 3 3 1 6 3 1 4 9 5 7 9 8 5 7 8 6 7 2 2 9 4 2 4 0 9 6 6 5 2 3 9 9 4\n",
      " 1 9 5 4 6 5 6 0 9 3 3 7 2 9 8 7 3 8 8 7 5 3 5 7 5 6 9 6 2 1 2 3 7 6 3 8 8\n",
      " 0 2 7 3 3 8 8 8 1 7 2 7 4 0 8 9 0 6 8 6 4 6 2 0 0 3]\n"
     ]
    }
   ],
   "source": [
    "#prediction by the model\n",
    "pred=model.predict(x_test[:100])\n",
    "print(np.argmax(pred, axis=1))"
   ]
  },
  {
   "cell_type": "code",
   "execution_count": 16,
   "metadata": {
    "colab": {
     "base_uri": "https://localhost:8080/",
     "height": 265
    },
    "id": "0v5WV0rlvocQ",
    "outputId": "272b6dc0-eed9-4593-fda4-db6b7e96bc46"
   },
   "outputs": [
    {
     "data": {
      "image/png": "[encoded data removed]",
      "text/plain": [
       "<Figure size 432x288 with 1 Axes>"
      ]
     },
     "metadata": {
      "needs_background": "light"
     },
     "output_type": "display_data"
    }
   ],
   "source": [
    "#plotting the results\n",
    "plt.plot(history.history['accuracy'], label='accuracy')\n",
    "plt.plot(history.history['val_accuracy'], label='val_accuracy')\n",
    "plt.plot(history.history['loss'], label='loss')\n",
    "plt.plot(history.history['val_loss'], label='val_loss')\n",
    "plt.legend()\n",
    "plt.show()"
   ]
  }
 ],
 "metadata": {
  "colab": {
   "provenance": []
  },
  "kernelspec": {
   "display_name": "Python 3 (ipykernel)",
   "language": "python",
   "name": "python3"
  },
  "language_info": {
   "codemirror_mode": {
    "name": "ipython",
    "version": 3
   },
   "file_extension": ".py",
   "mimetype": "text/x-python",
   "name": "python",
   "nbconvert_exporter": "python",
   "pygments_lexer": "ipython3",
   "version": "3.9.13"
  }
 },
 "nbformat": 4,
 "nbformat_minor": 1
}
